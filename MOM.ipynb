{
 "cells": [
  {
   "cell_type": "markdown",
   "metadata": {},
   "source": [
    "# Regesten in MOM\n",
    "## Spracherkennung\n",
    "1. Auslesen der Regestentexte (`cei:abstract`) ohne `cei:foreign` und mit der `atom:id`\n",
    "    regesten-?.txt (aber mit `cei:foreign`)\n",
    "2. Einlesen der Regesten:\n",
    "    Jede Zeile ist ein Regest\n",
    "    Am Anfang steht in [] die atom:id\n",
    "2. Erkennen der Sprache z.B. mit python langdetect (Voraussetzung ist die Installation von https://pypi.python.org/pypi/langdetect)\n",
    "3. Speichern der Sprache im `@xml:lang` Attribut"
   ]
  },
  {
   "cell_type": "code",
   "execution_count": 1,
   "metadata": {},
   "outputs": [
    {
     "data": {
      "text/plain": [
       "(6, 1067, 4868)"
      ]
     },
     "execution_count": 1,
     "metadata": {},
     "output_type": "execute_result"
    }
   ],
   "source": [
    "import re\n",
    "datei='regesten-6.txt'\n",
    "regesten= []\n",
    "längen=[]\n",
    "with open(datei, 'r', encoding=\"utf-8\") as fh:\n",
    "    for l in fh:\n",
    "        text = re.search('\\[(tag:www.monasterium.net,2011:/charter/.*?)\\] (.*?)$', l)\n",
    "        if text :\n",
    "            length = len(text.group(2).split(' '))\n",
    "            if length > 5 : # Die Bedingung versucht noch ein nGram-Fehler unten abzufangen\n",
    "                regest =[text.group(1), text.group(2), length]\n",
    "                längen.append(length)\n",
    "                regesten.append(regest)\n",
    "min(längen), max(längen), len(regesten)"
   ]
  },
  {
   "cell_type": "code",
   "execution_count": 2,
   "metadata": {},
   "outputs": [
    {
     "data": {
      "text/html": [
       "<div>\n",
       "<style>\n",
       "    .dataframe thead tr:only-child th {\n",
       "        text-align: right;\n",
       "    }\n",
       "\n",
       "    .dataframe thead th {\n",
       "        text-align: left;\n",
       "    }\n",
       "\n",
       "    .dataframe tbody tr th {\n",
       "        vertical-align: top;\n",
       "    }\n",
       "</style>\n",
       "<table border=\"1\" class=\"dataframe\">\n",
       "  <thead>\n",
       "    <tr style=\"text-align: right;\">\n",
       "      <th></th>\n",
       "      <th>atom:id</th>\n",
       "      <th>Regest</th>\n",
       "      <th>length</th>\n",
       "      <th>lang</th>\n",
       "    </tr>\n",
       "  </thead>\n",
       "  <tbody>\n",
       "    <tr>\n",
       "      <th>0</th>\n",
       "      <td>tag:www.monasterium.net,2011:/charter/DE-HStAM...</td>\n",
       "      <td>Hermann von Netra (Netere) [Gem. Ringgau, Werr...</td>\n",
       "      <td>83</td>\n",
       "      <td>de</td>\n",
       "    </tr>\n",
       "    <tr>\n",
       "      <th>1</th>\n",
       "      <td>tag:www.monasterium.net,2011:/charter/AT-StiAL...</td>\n",
       "      <td>Bischof Ovdalricus von Passau weiht auf Bitte ...</td>\n",
       "      <td>191</td>\n",
       "      <td>fr</td>\n",
       "    </tr>\n",
       "    <tr>\n",
       "      <th>2</th>\n",
       "      <td>tag:www.monasterium.net,2011:/charter/AT-StiAL...</td>\n",
       "      <td>Bischof Chunradus von Passau bezeugt, daß Pfar...</td>\n",
       "      <td>181</td>\n",
       "      <td>de</td>\n",
       "    </tr>\n",
       "    <tr>\n",
       "      <th>3</th>\n",
       "      <td>tag:www.monasterium.net,2011:/charter/AT-StiAL...</td>\n",
       "      <td>Wolfgerus de Arnperch bezeugt, daß ihm Weiccar...</td>\n",
       "      <td>101</td>\n",
       "      <td>de</td>\n",
       "    </tr>\n",
       "    <tr>\n",
       "      <th>4</th>\n",
       "      <td>tag:www.monasterium.net,2011:/charter/AT-StiAL...</td>\n",
       "      <td>Die Töchter der Anna der Reinprehtinne Agnes m...</td>\n",
       "      <td>90</td>\n",
       "      <td>de</td>\n",
       "    </tr>\n",
       "  </tbody>\n",
       "</table>\n",
       "</div>"
      ],
      "text/plain": [
       "                                             atom:id  \\\n",
       "0  tag:www.monasterium.net,2011:/charter/DE-HStAM...   \n",
       "1  tag:www.monasterium.net,2011:/charter/AT-StiAL...   \n",
       "2  tag:www.monasterium.net,2011:/charter/AT-StiAL...   \n",
       "3  tag:www.monasterium.net,2011:/charter/AT-StiAL...   \n",
       "4  tag:www.monasterium.net,2011:/charter/AT-StiAL...   \n",
       "\n",
       "                                              Regest  length lang  \n",
       "0  Hermann von Netra (Netere) [Gem. Ringgau, Werr...      83   de  \n",
       "1  Bischof Ovdalricus von Passau weiht auf Bitte ...     191   fr  \n",
       "2  Bischof Chunradus von Passau bezeugt, daß Pfar...     181   de  \n",
       "3  Wolfgerus de Arnperch bezeugt, daß ihm Weiccar...     101   de  \n",
       "4  Die Töchter der Anna der Reinprehtinne Agnes m...      90   de  "
      ]
     },
     "execution_count": 2,
     "metadata": {},
     "output_type": "execute_result"
    }
   ],
   "source": [
    "# Nun erkenne ich die Sprache (und zwar nur eine pro Regest). Kann ein wenig brauchen\n",
    "from langdetect import detect\n",
    "import pandas as pd\n",
    "regesten_lang = []\n",
    "for regest in regesten:\n",
    "    if regest[1]:\n",
    "        regest.append(detect(regest[1]))\n",
    "        regesten_lang.append(regest)\n",
    "dfRegesten = pd.DataFrame(regesten_lang,  columns = [\"atom:id\", \"Regest\", \"length\", \"lang\"])\n",
    "dfRegesten.head()"
   ]
  },
  {
   "cell_type": "markdown",
   "metadata": {},
   "source": [
    "Ich kann mit detect_langs auch die Wahrscheinlichkeit / Verteilung von mehreren Sprachen errechnen. Das wäre eine Möglichkeit, Texte auszuschließen, die zu wenig klar einer Sprache zugewiesen werden können."
   ]
  },
  {
   "cell_type": "code",
   "execution_count": 3,
   "metadata": {},
   "outputs": [
    {
     "data": {
      "text/plain": [
       "[ca:0.29331705994881085,\n",
       " fr:0.2857123768557359,\n",
       " it:0.14363918294410338,\n",
       " de:0.14285636460803203,\n",
       " en:0.13444409840030452]"
      ]
     },
     "execution_count": 3,
     "metadata": {},
     "output_type": "execute_result"
    }
   ],
   "source": [
    "from langdetect import detect_langs #Sprachwahrscheinlichkeit/Sprachmöglichkeiten errechnen\n",
    "detect_langs(dfRegesten.iloc[1]['Regest']) "
   ]
  },
  {
   "cell_type": "markdown",
   "metadata": {},
   "source": [
    "*Achtung*, das Ergebnis zeigt, daß die Sprachzuweisung in unklaren Fällen nicht stabil ist!"
   ]
  },
  {
   "cell_type": "markdown",
   "metadata": {},
   "source": [
    "Noch eine ganz andere Möglichkeit zur Spracherkennung wären Webservices wie die Yandex API:\n",
    "(key: trnsl.1.1.20170616T153230Z.2c48c10e4153c210.f3fb4b9a8437827494a4a4e69b0cf4feb432dbbd )\n",
    "https://tech.yandex.com/translate/doc/dg/reference/detect-docpage/"
   ]
  },
  {
   "cell_type": "markdown",
   "metadata": {},
   "source": [
    "Das Problem kurzer Texte könnte mich einholen?\n",
    "\n",
    "Es gibt folgende Sprachen:"
   ]
  },
  {
   "cell_type": "code",
   "execution_count": 3,
   "metadata": {},
   "outputs": [
    {
     "name": "stdout",
     "output_type": "stream",
     "text": [
      "{'da', 'es', 'sv', 'sk', 'fr', 'cs', 'sl', 'en', 'ca', 'de'}\n"
     ]
    }
   ],
   "source": [
    "print(set(dfRegesten['lang']))"
   ]
  },
  {
   "cell_type": "markdown",
   "metadata": {
    "collapsed": true
   },
   "source": [
    "## NER in den Regesten\n",
    "mit spacy die NE erkennen\n",
    "(und in einen eigenen DataFrame schreiben mit : NE, type, atom:id)\n",
    "Ziel wäre \n",
    "1. Testen wie gut die Erkennung ist (z.B. durch Vergleich mit cei:back\n",
    "3. Markup in die Regesten einfügen oder im cei:back\n",
    "3. Resolving über Webservices (geonames, gnd/viaf, wikipedia/wikidata)\n",
    "2. Ergänzen der MOM-Daten mit den Identifikatoren (evtl. auch normalisierten Formen?)\n",
    "\n",
    "Dazu muß ich\n",
    "1. spacy laden und alle notwendigen Sprachmodelle laden (python -m spacy download _lang_)\n",
    "2. testen, ob die Sprachmodelle\n",
    "2. die Regestenliste iterieren\n",
    "2. jedes Regest durch spacy.nlp schicken\n",
    "4. die NE adressieren und auslesen\n"
   ]
  },
  {
   "cell_type": "code",
   "execution_count": 4,
   "metadata": {},
   "outputs": [
    {
     "name": "stdout",
     "output_type": "stream",
     "text": [
      "{'da': <spacy.lang.xx.MultiLanguage object at 0x0000018FA49C3198>, 'es': <spacy.lang.es.Spanish object at 0x0000018FB3C5BEB8>, 'sv': <spacy.lang.xx.MultiLanguage object at 0x0000018FB3C642B0>, 'sk': <spacy.lang.xx.MultiLanguage object at 0x0000018FC7D4CC88>, 'fr': <spacy.lang.xx.MultiLanguage object at 0x0000018FDF9D05F8>, 'cs': <spacy.lang.xx.MultiLanguage object at 0x0000018F851B3F28>, 'sl': <spacy.lang.xx.MultiLanguage object at 0x0000018F98A9B8D0>, 'en': <spacy.lang.xx.MultiLanguage object at 0x0000019018DB02B0>, 'ca': <spacy.lang.xx.MultiLanguage object at 0x0000019035EC9BA8>, 'de': <spacy.lang.de.German object at 0x000001906B345F60>}\n"
     ]
    }
   ],
   "source": [
    "# Die im Corpus vorkommenden Modelle laden\n",
    "import os\n",
    "import spacy\n",
    "langs_available={'de': 'de_core_news_sm', 'es': 'es_core_news_sm', 'it': 'it_core_news_sm', 'xx': 'xx_ent_wiki_sm'} \n",
    "# Da gibt es noch ein paar wenige mehr\n",
    "langs=set(dfRegesten['lang'])\n",
    "nlps={}\n",
    "for i in langs:\n",
    "    if i in langs_available.keys():\n",
    "        nlps[i] = spacy.load(langs_available[i])\n",
    "    else:\n",
    "        nlps[i] = spacy.load(langs_available['xx'])\n",
    "print(nlps)"
   ]
  },
  {
   "cell_type": "code",
   "execution_count": 5,
   "metadata": {
    "collapsed": true
   },
   "outputs": [],
   "source": [
    "# Jedem Regest die Named Entities mit spacy zuweisen\n",
    "# Sprachen aber besser mit dem Treetagger repräsentiert? Zumindest gibt es da sogar Modelle für Latein und Mittelhochdeutsch\n",
    "NEs=[]\n",
    "for i in range(len(dfRegesten)):\n",
    "    regest=dfRegesten.iloc[i]['Regest']\n",
    "    lang=dfRegesten.iloc[i]['lang']\n",
    "    atomid=dfRegesten.iloc[i]['atom:id']\n",
    "    txt_nlp=nlps[lang](regest)\n",
    "    for entity in txt_nlp.ents:\n",
    "        #print(entity.text, entity.label_)\n",
    "        ent = [atomid, lang, entity.text, entity.label_]\n",
    "        NEs.append(ent)\n",
    "    #dfRegesten.iloc[i]['NEs']=txt_nlp.ents # Hier will ich nun die Named Entities dem DataFrame hinzufügen, damit ich sie weiterverarbeiten kann"
   ]
  },
  {
   "cell_type": "code",
   "execution_count": 13,
   "metadata": {},
   "outputs": [
    {
     "name": "stdout",
     "output_type": "stream",
     "text": [
      "38721 NEs\n",
      "Distinkt 19551\n"
     ]
    },
    {
     "data": {
      "text/html": [
       "<div>\n",
       "<style scoped>\n",
       "    .dataframe tbody tr th:only-of-type {\n",
       "        vertical-align: middle;\n",
       "    }\n",
       "\n",
       "    .dataframe tbody tr th {\n",
       "        vertical-align: top;\n",
       "    }\n",
       "\n",
       "    .dataframe thead th {\n",
       "        text-align: right;\n",
       "    }\n",
       "</style>\n",
       "<table border=\"1\" class=\"dataframe\">\n",
       "  <thead>\n",
       "    <tr style=\"text-align: right;\">\n",
       "      <th></th>\n",
       "      <th>atom:id</th>\n",
       "      <th>lang</th>\n",
       "      <th>NE.text</th>\n",
       "      <th>NE.label</th>\n",
       "    </tr>\n",
       "  </thead>\n",
       "  <tbody>\n",
       "    <tr>\n",
       "      <th>0</th>\n",
       "      <td>tag:www.monasterium.net,2011:/charter/AT-StiAK...</td>\n",
       "      <td>de</td>\n",
       "      <td>Martin</td>\n",
       "      <td>PER</td>\n",
       "    </tr>\n",
       "    <tr>\n",
       "      <th>1</th>\n",
       "      <td>tag:www.monasterium.net,2011:/charter/AT-StiAK...</td>\n",
       "      <td>de</td>\n",
       "      <td>Otto</td>\n",
       "      <td>PER</td>\n",
       "    </tr>\n",
       "    <tr>\n",
       "      <th>2</th>\n",
       "      <td>tag:www.monasterium.net,2011:/charter/AT-StiAK...</td>\n",
       "      <td>de</td>\n",
       "      <td>Formbach</td>\n",
       "      <td>LOC</td>\n",
       "    </tr>\n",
       "    <tr>\n",
       "      <th>3</th>\n",
       "      <td>tag:www.monasterium.net,2011:/charter/AT-StiAK...</td>\n",
       "      <td>de</td>\n",
       "      <td>Ernst</td>\n",
       "      <td>PER</td>\n",
       "    </tr>\n",
       "    <tr>\n",
       "      <th>4</th>\n",
       "      <td>tag:www.monasterium.net,2011:/charter/AT-StiAK...</td>\n",
       "      <td>de</td>\n",
       "      <td>Heinrich</td>\n",
       "      <td>PER</td>\n",
       "    </tr>\n",
       "    <tr>\n",
       "      <th>5</th>\n",
       "      <td>tag:www.monasterium.net,2011:/charter/AT-StiAK...</td>\n",
       "      <td>de</td>\n",
       "      <td>Kremsmünster</td>\n",
       "      <td>LOC</td>\n",
       "    </tr>\n",
       "    <tr>\n",
       "      <th>6</th>\n",
       "      <td>tag:www.monasterium.net,2011:/charter/AT-StiAK...</td>\n",
       "      <td>de</td>\n",
       "      <td>Waltse Haubtman</td>\n",
       "      <td>PER</td>\n",
       "    </tr>\n",
       "    <tr>\n",
       "      <th>7</th>\n",
       "      <td>tag:www.monasterium.net,2011:/charter/AT-StiAK...</td>\n",
       "      <td>de</td>\n",
       "      <td>Ens</td>\n",
       "      <td>ORG</td>\n",
       "    </tr>\n",
       "    <tr>\n",
       "      <th>8</th>\n",
       "      <td>tag:www.monasterium.net,2011:/charter/AT-StiAK...</td>\n",
       "      <td>de</td>\n",
       "      <td>Klosters Kremsmünster</td>\n",
       "      <td>LOC</td>\n",
       "    </tr>\n",
       "    <tr>\n",
       "      <th>9</th>\n",
       "      <td>tag:www.monasterium.net,2011:/charter/AT-StiAK...</td>\n",
       "      <td>de</td>\n",
       "      <td>Wandels</td>\n",
       "      <td>PER</td>\n",
       "    </tr>\n",
       "  </tbody>\n",
       "</table>\n",
       "</div>"
      ],
      "text/plain": [
       "                                             atom:id lang  \\\n",
       "0  tag:www.monasterium.net,2011:/charter/AT-StiAK...   de   \n",
       "1  tag:www.monasterium.net,2011:/charter/AT-StiAK...   de   \n",
       "2  tag:www.monasterium.net,2011:/charter/AT-StiAK...   de   \n",
       "3  tag:www.monasterium.net,2011:/charter/AT-StiAK...   de   \n",
       "4  tag:www.monasterium.net,2011:/charter/AT-StiAK...   de   \n",
       "5  tag:www.monasterium.net,2011:/charter/AT-StiAK...   de   \n",
       "6  tag:www.monasterium.net,2011:/charter/AT-StiAK...   de   \n",
       "7  tag:www.monasterium.net,2011:/charter/AT-StiAK...   de   \n",
       "8  tag:www.monasterium.net,2011:/charter/AT-StiAK...   de   \n",
       "9  tag:www.monasterium.net,2011:/charter/AT-StiAK...   de   \n",
       "\n",
       "                 NE.text NE.label  \n",
       "0                 Martin      PER  \n",
       "1                   Otto      PER  \n",
       "2               Formbach      LOC  \n",
       "3                  Ernst      PER  \n",
       "4               Heinrich      PER  \n",
       "5           Kremsmünster      LOC  \n",
       "6        Waltse Haubtman      PER  \n",
       "7                    Ens      ORG  \n",
       "8  Klosters Kremsmünster      LOC  \n",
       "9                Wandels      PER  "
      ]
     },
     "execution_count": 13,
     "metadata": {},
     "output_type": "execute_result"
    }
   ],
   "source": [
    "dfNEs = pd.DataFrame(NEs,  columns = [\"atom:id\", \"lang\", \"NE.text\", \"NE.label\"])\n",
    "print(len(dfNEs), 'NEs')\n",
    "print('Distinkt', len(set(dfNEs['NE.text'])))\n",
    "dfNEs[:10]"
   ]
  },
  {
   "cell_type": "markdown",
   "metadata": {},
   "source": [
    "## Verifizierung\n",
    "Das wäre jetzt ein händische Arbeit, oder?"
   ]
  },
  {
   "cell_type": "code",
   "execution_count": 14,
   "metadata": {
    "collapsed": true
   },
   "outputs": [],
   "source": [
    "# Erst mal rausschreiben\n",
    "with open(datei+'-NEs.csv', 'w', encoding='utf-8') as fh:\n",
    "    dfNEs.to_csv(fh, sep=',', header=True)"
   ]
  },
  {
   "cell_type": "markdown",
   "metadata": {},
   "source": [
    "## Entity identification\n",
    "Das wäre jetzt der nächste Schritt, bei dem ich meine NEs mit Quellen aus dem Netz / aus dem übrigen MOM verbinden würde.\n",
    "\n",
    "Für die Regestenidentifikation könnte das insofern nützlich sein, als es ermöglichen würde, Gemeinsamkeiten in den NEs höher zu gewichten."
   ]
  }
 ],
 "metadata": {
  "kernelspec": {
   "display_name": "Python 3",
   "language": "python",
   "name": "python3"
  },
  "language_info": {
   "codemirror_mode": {
    "name": "ipython",
    "version": 3
   },
   "file_extension": ".py",
   "mimetype": "text/x-python",
   "name": "python",
   "nbconvert_exporter": "python",
   "pygments_lexer": "ipython3",
   "version": "3.6.3"
  }
 },
 "nbformat": 4,
 "nbformat_minor": 2
}
